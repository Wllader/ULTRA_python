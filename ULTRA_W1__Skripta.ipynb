{
 "cells": [
  {
   "cell_type": "markdown",
   "id": "a17c610d",
   "metadata": {},
   "source": [
    "# Týden 1\n",
    "## 0. Obsah:\n",
    "\n",
    "- [Instalace VS Code](https://code.visualstudio.com/download)\n",
    "- Soubory .py a .ipynb\n",
    "- Opakování základů Pythonu\n",
    "    - Proměnné a typy (`str`, `int`, `float`, `bool`)\n",
    "    - Podmínky (`if`, `elif`, `else`, `match/case`)\n",
    "    - Smyčky (`while`, `for`)\n",
    "    - Kolekce (`list`, `tuple`, `set`, `dict`) + slicování\n",
    "    - Mutable a immutable typy\n",
    "    - Funkce a metody\n",
    "    - Knihovny a jejich importování\n",
    "    - Základy práce se soubory + context managery\n",
    "- Čtyři pilíře programování (Informatika, Počítačové technologie, Kódování, Algoritmizace)\n",
    "- Objektově orientované programování (OOP)\n",
    "    - Koncept\n",
    "    - Dědičnost\n",
    "    - Polymorfismus\n",
    "    - Instanční vs. Statické proměnné, funkce a metody\n",
    "    - Jednoduchý příklad dict vs. Objekt\n",
    "    - Dataclasses\n",
    "- Úvod do psaní větších programů / projektů\n",
    "    - Zásady psaní čitelného kódu\n",
    "        - Samodokumentace\n",
    "        - Docstringy\n",
    "        - Komentáře\n",
    "        - Dokumentace (`README.md`)\n",
    "    - Strukturování kódu do souborů a složek\n",
    "        - Import částí kódu\n",
    "        - Knihovny\n",
    "        - Implicitní spouštění a main blok / main thread check\n",
    "        - Specifika VSCode pro import a práci se soubory\n",
    "    - Verzovací systém (Git + GitHub)\n",
    "        - Registrace na [GitHubu](https://github.com/)\n",
    "        - Stažení [Gitu](https://git-scm.com/downloads)\n",
    "        - Příkazy `init`, `status`, `add`, `commit`, `push`, `pull`\n",
    "        - Soubor `.gitignore`\n",
    "        - Vlastní soubor `README.md`\n",
    "        - Vytvoření vlastního repozitáře\n",
    "        - Větvení (branchování) a sdružování (mergování)\n",
    "- Příklady často používaných knihoven a práce s nimi\n",
    "    - Numpy\n",
    "    - **Příští týden:**\n",
    "        - Matplotlib\n",
    "        - CV2\n",
    "        - Pandas\n",
    "        - PyGame\n",
    "        - TkInter\n"
   ]
  },
  {
   "cell_type": "markdown",
   "id": "182855f8",
   "metadata": {},
   "source": [
    "## 1. Soubory `.py` a `.ipynb`\n",
    "\n",
    "Soubory s příponou `.py` jsou soubory zdrojového kódu v jazyce Python. Budeme je používat pro souvislý vývoj projektu a nějaké rychlé ukázky.\n",
    "\n",
    "Proti tomu soubory s příponou `.ipynb` jsou soubory tzv. Jupyterového notebooku, což je formát připomínající poznámkový blok, ve kterém je možné kombinovat poznámky v jazyce Markdown (`.md`), matematické formule v jazyce LaTeX a úryvky kódu v jazyce (nejen) Python.\n",
    "Tento formát slouží především k prezentaci souvislých témat s demonstračními prográmky - jako je tenhle soubor."
   ]
  },
  {
   "cell_type": "markdown",
   "id": "b2da0c35",
   "metadata": {},
   "source": [
    "## 2. Opakování základů Pythonu"
   ]
  },
  {
   "cell_type": "markdown",
   "id": "fe43f38a",
   "metadata": {},
   "source": [
    "### Proměnné a typy"
   ]
  },
  {
   "cell_type": "code",
   "execution_count": 172,
   "id": "9bdca5ce",
   "metadata": {},
   "outputs": [
    {
     "name": "stdout",
     "output_type": "stream",
     "text": [
      "type(a)=<class 'str'>\n",
      "type(b)=<class 'int'>\n",
      "type(c)=<class 'float'>\n",
      "type(d)=<class 'float'>\n",
      "type(e)=<class 'bool'>\n",
      "type(f)=<class 'bool'>\n"
     ]
    }
   ],
   "source": [
    "'Ahoj', 3, 3.14 # Jsou konstanty\n",
    "a = 'Ahoj'      # a je proměnná s hodnotou 'Ahoj' typu tzv. \"řetězce\", neboli string\n",
    "b = 3           # b je proměnná typu celé číslo (integer -> int)\n",
    "c = 3.14        # c je proměnná typu číslo s plovoucí desetinnou čárkou (floating point number -> float)\n",
    "d = 3.          # d taky - hodnota proměnné d je 3.00\n",
    "e = True        # e je proměnná typu pravdivostní hodnota (boolean -> bool)\n",
    "f = 3 > 5       # f taky - pravdivostní hodnota je cokoliv, co může být vyhodnoceno jako Pravda (True) nebo Nepravda (False)\n",
    "                #  této vlastnosti využijeme v podmínkách:\n",
    "\n",
    "print(f'{type(a)=}')\n",
    "print(f'{type(b)=}')\n",
    "print(f'{type(c)=}')\n",
    "print(f'{type(d)=}')\n",
    "print(f'{type(e)=}')\n",
    "print(f'{type(f)=}')"
   ]
  },
  {
   "cell_type": "markdown",
   "id": "00e3748c",
   "metadata": {},
   "source": [
    "### Podmínky"
   ]
  },
  {
   "cell_type": "code",
   "execution_count": 173,
   "id": "e806758c",
   "metadata": {},
   "outputs": [
    {
     "name": "stdout",
     "output_type": "stream",
     "text": [
      "Měl bych ještě čekat.\n"
     ]
    }
   ],
   "source": [
    "stock_price_usd = 12.50\n",
    "\n",
    "if stock_price_usd < 10:\n",
    "    print(\"Možná bych měl koupit...\")\n",
    "elif stock_price_usd > 15:\n",
    "    print(\"Možná bych měl prodat...\")\n",
    "else:\n",
    "    print(\"Měl bych ještě čekat.\")\n",
    "# Tohle není finanční poradenství"
   ]
  },
  {
   "cell_type": "code",
   "execution_count": 174,
   "id": "bd1f9479",
   "metadata": {},
   "outputs": [
    {
     "name": "stdout",
     "output_type": "stream",
     "text": [
      "Měl bych ještě čekat.\n"
     ]
    }
   ],
   "source": [
    "# Proměnné a jejich hodnoty přetrvávají mezi buňkami v .ipynb:\n",
    "\n",
    "# Lepší způsob jak přistoupit k takovým podmínkám:\n",
    "output_text = \"Měl bych ještě čekat.\" # Výchozí hodnota v proměnné\n",
    "if stock_price_usd < 10:              # Změna jen v případě zvýšení/snížení\n",
    "    output_text = \"Možná bych měl koupit...\"\n",
    "elif stock_price_usd > 15:\n",
    "    output_text = \"Možná bych měl prodat...\"\n",
    "\n",
    "print(output_text)                    # Jen jedno volání print() -> Lepší čitelnost"
   ]
  },
  {
   "cell_type": "code",
   "execution_count": 175,
   "id": "9c5a9d94",
   "metadata": {},
   "outputs": [
    {
     "name": "stdout",
     "output_type": "stream",
     "text": [
      "PostcodeStatus.LIVE\n",
      "PostcodeStatus.INVALID\n",
      "PostcodeStatus.TERMINATED\n"
     ]
    }
   ],
   "source": [
    "from enum import Enum, auto\n",
    "import requests as reqs\n",
    "\n",
    "POSTCODES_IO_URL = \"https://api.postcodes.io\"\n",
    "\n",
    "class PostcodeStatus(Enum):\n",
    "    INVALID = auto()\n",
    "    LIVE = auto()\n",
    "    TERMINATED = auto()\n",
    "    UNKNOWN = auto()\n",
    "\n",
    "def postcode_status(postcode: str) -> PostcodeStatus:\n",
    "    with reqs.get(f\"{POSTCODES_IO_URL}/terminated_postcodes/{postcode}\") as resp:\n",
    "        match resp.json():\n",
    "            case {\"status\" : 200}:\n",
    "                return PostcodeStatus.TERMINATED\n",
    "            case {\"status\" : 404, \"error\" : \"Invalid postcode\"}:\n",
    "                return PostcodeStatus.INVALID\n",
    "            case {\"status\" : 404, \"error\" : \"Terminated postcode not found\"}:\n",
    "                return PostcodeStatus.LIVE\n",
    "            case _:\n",
    "                return PostcodeStatus.UNKNOWN\n",
    "            \n",
    "print(\n",
    "    postcode_status(\"EC1A 1BB\"),    # Live\n",
    "    postcode_status(\"INVA LID\"),    # Invalid\n",
    "    postcode_status(\"W1A 0AA\"),     # Terminated\n",
    "\n",
    "    sep=\"\\n\"\n",
    ")"
   ]
  },
  {
   "cell_type": "markdown",
   "id": "e4900ada",
   "metadata": {},
   "source": [
    "### Smyčky (loops)"
   ]
  },
  {
   "cell_type": "code",
   "execution_count": 176,
   "id": "5bc08711",
   "metadata": {},
   "outputs": [
    {
     "name": "stdout",
     "output_type": "stream",
     "text": [
      "Cena akcie je: 0\n",
      "Cena akcie je: 10\n",
      "Cena akcie je: 20\n",
      "Cena akcie je: 30\n",
      "Cena akcie je: 40\n",
      "Cena akcie je: 50\n",
      "Cena akcie je: 60\n",
      "Cena akcie je: 70\n",
      "Cena akcie je: 80\n",
      "Cena akcie je: 90\n"
     ]
    }
   ],
   "source": [
    "stock_prices = []\n",
    "for p in range(0, 100, 10):\n",
    "    stock_prices.append(p)\n",
    "\n",
    "for sp in stock_prices:\n",
    "    print(f\"Cena akcie je: {sp}\")"
   ]
  },
  {
   "cell_type": "code",
   "execution_count": 177,
   "id": "dbceda2f",
   "metadata": {},
   "outputs": [
    {
     "name": "stdout",
     "output_type": "stream",
     "text": [
      "Cena akcie je: 0\n",
      "Cena akcie je: 10\n",
      "Cena akcie je: 20\n",
      "Cena akcie je: 30\n",
      "Cena akcie je: 40\n",
      "Cena akcie je: 50\n",
      "Cena akcie je: 60\n",
      "Cena akcie je: 70\n",
      "Cena akcie je: 80\n",
      "Cena akcie je: 90\n"
     ]
    }
   ],
   "source": [
    "# Lepší způsob jak naplnit seznam:\n",
    "stock_prices = [ p for p in range(0, 100, 10) ]     # List-comprehension\n",
    "\n",
    "for sp in stock_prices:\n",
    "    print(f\"Cena akcie je: {sp}\")"
   ]
  },
  {
   "cell_type": "code",
   "execution_count": 178,
   "id": "a0e659f0",
   "metadata": {},
   "outputs": [
    {
     "name": "stdout",
     "output_type": "stream",
     "text": [
      "Kupuju víc za 12.5\n",
      "Kupuju víc za 18.75\n",
      "Kupuju víc za 25.0\n",
      "Prodávám všechno za 31.25\n"
     ]
    }
   ],
   "source": [
    "my_stock_price = 12.50\n",
    "\n",
    "while(my_stock_price < 30):\n",
    "    print(f\"Kupuju víc za {my_stock_price}\")\n",
    "    my_stock_price += 6.25\n",
    "\n",
    "print(f\"Prodávám všechno za {my_stock_price}\")"
   ]
  },
  {
   "cell_type": "markdown",
   "id": "c66367fc",
   "metadata": {},
   "source": [
    "### Mutable a immutable typy"
   ]
  },
  {
   "cell_type": "code",
   "execution_count": 179,
   "id": "1902957e",
   "metadata": {},
   "outputs": [
    {
     "name": "stdout",
     "output_type": "stream",
     "text": [
      "This is a string\n",
      "a str\n",
      "['T', 'h', 'i', 's', ' ', 'i', 's', ' ', 'a', ' ', 's', 't', 'r', 'i', 'n', 'g']\n",
      "['a', ' ', 's', 't', 'r']\n",
      "['T', 'h', 'i', 's', ' ', 'i', 's', ' ', 'n', 'o', 't', 'h', 'i', 'n', 'g']\n",
      "This is nothing\n"
     ]
    }
   ],
   "source": [
    "s = \"This is a string\"\n",
    "print(s)\n",
    "print(s[8:13])\n",
    "# s[10:13] = \"noth\" # TypeError\n",
    "\n",
    "l = list(s)\n",
    "print(l)\n",
    "print(l[8:13])\n",
    "l[8:13] = list(\"noth\")\n",
    "print(l)\n",
    "s = \"\".join(l)\n",
    "print(s)"
   ]
  },
  {
   "cell_type": "markdown",
   "id": "adc61388",
   "metadata": {},
   "source": [
    "### Kolekce"
   ]
  },
  {
   "cell_type": "code",
   "execution_count": 180,
   "id": "00ae303d",
   "metadata": {},
   "outputs": [
    {
     "name": "stdout",
     "output_type": "stream",
     "text": [
      "abcdefghij,abcdefghij\n",
      "['a', 'b', 'c', 'd', 'e', 'f', 'g', 'h', 'i', 'j', ',', 'a', 'b', 'c', 'd', 'e', 'f', 'g', 'h', 'i', 'j']\n",
      "('a', 'b', 'c', 'd', 'e', 'f', 'g', 'h', 'i', 'j', ',', 'a', 'b', 'c', 'd', 'e', 'f', 'g', 'h', 'i', 'j')\n",
      "{'a', 'b', 'f', ',', 'e', 'g', 'j', 'h', 'i', 'd', 'c'}\n",
      "{'a': 11, 'b': 12, 'c': 13, 'd': 14, 'e': 15, 'f': 16, 'g': 17, 'h': 18, 'i': 19, 'j': 20, ',': 10}\n"
     ]
    }
   ],
   "source": [
    "S = \"abcdefghij,abcdefghij\" # string is not a collection\n",
    "\n",
    "l = list(S)     # mutable\n",
    "t = tuple(S)    # immutable\n",
    "s = set(S)      # mutable\n",
    "d = { k : v for v, k in enumerate(S)} # key: char in string; value: last position index in string\n",
    "                                      # mutable\n",
    "print(S)\n",
    "print(l)\n",
    "print(t)\n",
    "print(s)\n",
    "print(d)"
   ]
  },
  {
   "cell_type": "markdown",
   "id": "d93a7408",
   "metadata": {},
   "source": [
    "### Funkce a metody"
   ]
  },
  {
   "cell_type": "code",
   "execution_count": 181,
   "id": "bf793428",
   "metadata": {},
   "outputs": [
    {
     "name": "stdout",
     "output_type": "stream",
     "text": [
      "Hello from M1\n",
      "Hello from M2, how are you?\n",
      "2025\n",
      "24\n"
     ]
    }
   ],
   "source": [
    "from time import localtime\n",
    "\n",
    "def methodM1():\n",
    "    print(\"Hello from M1\")\n",
    "\n",
    "def methodM2(par):\n",
    "    print(f\"Hello from M2, {par}\")\n",
    "\n",
    "def functionF1():\n",
    "    return localtime().tm_year\n",
    "\n",
    "def functionF2(a, b=12):\n",
    "    return a*b\n",
    "\n",
    "methodM1()\n",
    "methodM2(\"how are you?\")\n",
    "\n",
    "a = functionF1()\n",
    "b = functionF2(2)\n",
    "print(a)\n",
    "print(b)"
   ]
  },
  {
   "cell_type": "markdown",
   "id": "5965e686",
   "metadata": {},
   "source": [
    "### Knihovny a jejich importování"
   ]
  },
  {
   "cell_type": "code",
   "execution_count": 182,
   "id": "2966eb11",
   "metadata": {},
   "outputs": [],
   "source": [
    "import json\n",
    "import numpy as np\n",
    "from time import localtime, perf_counter as pc"
   ]
  },
  {
   "cell_type": "markdown",
   "id": "37c2fbb8",
   "metadata": {},
   "source": [
    "### Základy práce se soubory"
   ]
  },
  {
   "cell_type": "code",
   "execution_count": 183,
   "id": "0598f16a",
   "metadata": {},
   "outputs": [],
   "source": [
    "f = open(\"files/file.txt\", \"w\")\n",
    "f.write(\"This is a file\")\n",
    "f.close()"
   ]
  },
  {
   "cell_type": "code",
   "execution_count": 184,
   "id": "466568a1",
   "metadata": {},
   "outputs": [],
   "source": [
    "# Lepší způsob jak zacházet se soubory: Context managery\n",
    "with open(\"files/file.txt\", \"w\") as f:\n",
    "    f.write(\"This is a context managed file\")\n",
    "#f.close() is called automagically with un-indent - even if code crashes within it!"
   ]
  },
  {
   "cell_type": "markdown",
   "id": "027d2a9a",
   "metadata": {},
   "source": [
    "## 3. Čtyři pilíře programování\n",
    "Programátor se typicky neobejde alespoň bez základní znalosti všech čtyř, ale nutnost se nějakému z nich věnovat extenzivně, vyplývá spíše ze zaměření.\n",
    "\n",
    "### Matematika\n",
    "Informatika obecně je věda vycházející z velké části z pokroku matematiky. Pomocí matematiky nejen analyzujeme algoritmy a jejich efektivitu, ale objekty, kterými často popisujeme datové struktury, nebo algoritmy, bývají většinou inherentně matematické.\n",
    "\n",
    "Povětšinou se v Informatice setkáme s matematickými odvětvími jako teorie grafů, teorie množin, statistika, různé disciplíny diskrétní matematiky, jako je kombinatorika, ale i matematická analýza.\n",
    "\n",
    "Některá, už spíše informatická odvětví, přímo těží z těch matematických - například teorie složitosti a vyčíslitelnosti, nebo algoritmizace.\n",
    "\n",
    "\n",
    "### Počítačové technologie\n",
    "Tušit, z čeho se skládá počítač, jaká je architektura jeho komponent, nebo co je spolu spojuje, případně jak a kdy pracuje s pamětí jsou možná specifické drobnosti, ale podle odvětví, ve kterém se programátor pohybuje mohou více či méně ovlivnit různá rozhodnutí během vývoje i chování programu.\n",
    "\n",
    "\n",
    "### Kódování\n",
    "Kódování je ryzí znalost konkrétního programovacího jazyka a schopnost přepsat teoretický algoritmus do jeho syntaxe - pokud možno s co nejméně oklikami, efektivně, elegantně a čitelně.\n",
    "\n",
    "\n",
    "### Algoritmizace\n",
    "Je především schopnost problém rozdělit na menší díly a ty za pomoci dostupných elementárních úkonů vyřešit. Algoritmické myšlení je do jisté míry třeba trénovat a velmi rychle jde pak vypěstovat schopnost různé problémy převádět na jiné, nebo intuitivně tušit jak efektivní bude řešení zadaného problémů za různých okolností.\n",
    "\n",
    "---\n",
    "\n",
    "Každý programátor potřebuje znát jazyk, ve kterém píše, ale podle zaměření může a nemusí znát detaily různých knihoven, nebo balíčků.\n",
    "\n",
    "Bude se zásadně lišit, jakou matematiku musí ovládat Frontend developer, datový analytik, nebo herní vývojář. Bude se různit, kolik o architektuře procesorů potřebuje znát programátor operačních systémů, nebo uživatelských aplikací, atd."
   ]
  },
  {
   "cell_type": "markdown",
   "id": "6cc55b74",
   "metadata": {},
   "source": [
    "## 4. Objektově orientované programování\n",
    "### Koncept\n",
    "Typicky si během vývoje nevystačíme jen se základními datovými strukturami, které nám dobře vychované programovací jazyky poskytnou. Ať už je potřeba datová struktura, která data nějak zpracovává a vyžadujeme od ní specifické chování a máme nějaké nároky na její efektivitu při různých operacích s daty v ní (Fronty, Zásobníky, Haldy, Stromy, Spojové seznamy atp.) a nebo chceme reprezentovat nějaké chování objektů mezi sebou (Maticové operace, Diskrétní datové simulace, Protagonista a nepřátelé ve hře), programovací jazyky nám typicky dovolují si vytvořit vlastní objekty, kterými můžeme takové struktury pohodlněji reprezentovat.\n",
    "\n",
    "Jde to i bez nich? Ano, ale pak se ztrácí čitelnost, přehlednost, ale i modularita a (jednoduchá) rozšiřitelnost.\n",
    "\n",
    "Objektový přístup k programování nám pomáhá tyhle vlastnosti našeho kódu zachovat tím, že vytvářeným strukturám propůjčuje intuici objektů z našeho reálného světa.\n",
    "Představme si strukturu (odteď už objekt) reprezentující auto, které má barvu, SPZ, počet sedadel, ale umí například i zatáčet a troubit. Nebo různé druhy zvířat, která mají název, čeleď, druh, průměrný vrůst a oblíbený zvuk, který umějí vydávat.\n",
    "\n",
    "Takové objekty se v Pythonu nazývají Třídy (Class). Vlastnosti jim přiřazujeme pomocí proměnných, kterým říkáme Atributy, a činnosti je učíme pomocí funkcí, které mohou být tzv. Instanční (umí je každý objekt zvlášť) nebo statické (týkají se naší třídy, ale nemusí se týkat konkrétních jedinců (instancí))\n",
    "\n",
    "\n",
    "### Dědičnost\n",
    "Jedna z výhod objektového přístupu je tzv. dědičnost (Inheritance), která dovoluje odvozovat nové třídy od jiných, čímž můžeme šetřit opakování kódu pro podobné třídy.\n",
    "\n",
    "Představme si příklad se zvířaty.\n",
    "Každé zvíře má oblíbený zvuk a nějak se jmenují. Některá zvířata ale umí věci, které jiná neumí. Dává tedy smysl mít třídu Animal, ale jak odlišit ryby, které umí plavat, od ptáků, kteří létají?\n",
    "\n",
    "Jedna z možností by byla mít spousty booleovských proměnných typu `can_fly`, `can_swim`, `can_breathe_underwater`, ale to přestane být velmi rychle přehledné.\n",
    "\n",
    "Místo toho od třídy Animal můžeme vytvořit dědící třídy Fish a Bird, které budou mít všechny atributy i funkce třídy Animal, ale můžeme k nim připsat další, například funkci `lay_eggs()`, která je specifická pro ptáky.\n",
    "\n",
    "\n",
    "### Polymorfismus\n",
    "Díky dědičnosti dostáváme skoro zdarma tzv. Polymorfismus, což je schopnost chovat se ke skupinám objektů podle jejich nejmladšího společného dědice. Nemusíme se například bát na množině skládajcí se z ptáků, ryb a hadů zavolat funkci `make_a_sound()` protože dělat zvuky umějí všechny objekty typu Animal, ale třeba vlastnost `color_of_scales` už zjistit nemůžeme, protože šupiny mají jen ryby a hadi."
   ]
  },
  {
   "cell_type": "markdown",
   "id": "8e5b5478",
   "metadata": {},
   "source": [
    "### Instanční vs. Statické proměnné, funkce a metody"
   ]
  },
  {
   "cell_type": "code",
   "execution_count": 185,
   "id": "571dead8",
   "metadata": {},
   "outputs": [
    {
     "name": "stdout",
     "output_type": "stream",
     "text": [
      "I am Andy, the Animal!\n",
      "This Animal is called Andy\n",
      "\n",
      "---\n",
      "\n",
      "I am DD, the Dog!\n",
      "This Dog is called DD\n",
      "This Animal is called Andy\n",
      "\n",
      "---\n",
      "\n",
      "I am Pinky, the PoliceDog!\n",
      "This PoliceDog is called Pinky\n",
      "This PoliceDog is called Pinky\n"
     ]
    }
   ],
   "source": [
    "from typing import override\n",
    "\n",
    "def spacer():\n",
    "    print()\n",
    "    print(\"---\")\n",
    "    print()\n",
    "\n",
    "class Animal:\n",
    "    def __init__(self, name):\n",
    "        self.name = name\n",
    "\n",
    "    def make_a_sound(self):\n",
    "        print(\"Generic growl\")\n",
    "\n",
    "    def get_name(self):\n",
    "        print(f\"I am {self.name}, the {type(self).__name__}!\")\n",
    "\n",
    "    @staticmethod\n",
    "    def get_name_static(a):\n",
    "        print(f\"This {type(a).__name__} is called {a.name}\")\n",
    "\n",
    "class Dog(Animal):\n",
    "    def __init__(self, name, breed):\n",
    "        self.breed = breed\n",
    "        super().__init__(name)\n",
    "\n",
    "    @override\n",
    "    def make_a_sound(self):\n",
    "        print(\"Woof!\")\n",
    "\n",
    "class PoliceDog(Dog):\n",
    "    def __init__(self, name, breed, unit):\n",
    "        self.unit = unit\n",
    "        super().__init__(name, breed)\n",
    "    \n",
    "    @override\n",
    "    def make_a_sound(self):\n",
    "        print(\"WeeeeWooooWeeeeWoooo\")\n",
    "\n",
    "a = Animal(\"Andy\")\n",
    "a.get_name()\n",
    "Animal.get_name_static(a)\n",
    "\n",
    "spacer()\n",
    "\n",
    "d = Dog(\"DD\", \"Labrador\")\n",
    "d.get_name()\n",
    "Animal.get_name_static(d)\n",
    "Dog.get_name_static(a)\n",
    "\n",
    "spacer()\n",
    "\n",
    "p = PoliceDog(\"Pinky\", \"Malinois\", \"K9\")\n",
    "p.get_name()\n",
    "Animal.get_name_static(p)\n",
    "Dog.get_name_static(p)"
   ]
  },
  {
   "cell_type": "code",
   "execution_count": 186,
   "id": "669d6d60",
   "metadata": {},
   "outputs": [
    {
     "name": "stdout",
     "output_type": "stream",
     "text": [
      "11, 9\n",
      "11, 9\n",
      "11, 9\n",
      "11, 9\n",
      "\n",
      "48\n",
      "15.0, 9.0\n"
     ]
    }
   ],
   "source": [
    "from dataclasses import dataclass\n",
    "\n",
    "# @dataclass\n",
    "class Vector2:\n",
    "    # X: float\n",
    "    # Y: float\n",
    "\n",
    "    def __init__(self, x, y):\n",
    "        self.X, self.Y = x, y\n",
    "\n",
    "    def __repr__(self):\n",
    "        return f\"{self.X}, {self.Y}\"\n",
    "\n",
    "    def add(self, other):\n",
    "        return Vector2(self.X + other.X, self.Y + other.Y)\n",
    "    \n",
    "    def dot(self, other):\n",
    "        return self.X * other.X + self.Y * other.Y\n",
    "    \n",
    "    def scalar(self, alpha):\n",
    "        return Vector2(alpha * self.X, alpha * self.Y)\n",
    "    \n",
    "\n",
    "\n",
    "    @staticmethod\n",
    "    def add_(a, b):\n",
    "        return Vector2(a.X + b.X, a.Y + b.Y)\n",
    "    \n",
    "    @staticmethod\n",
    "    def dot_(a, b):\n",
    "        return a.X * b.X + a.Y * b.Y\n",
    "    \n",
    "    @staticmethod\n",
    "    def scalar_(a, alpha):\n",
    "        return Vector2(alpha * a.X, alpha * a.Y)\n",
    "    \n",
    "\n",
    "    def __add__(self, other):\n",
    "        return Vector2(self.X + other.X, self.Y + other.Y)\n",
    "    \n",
    "    # def __mul__(self, other):\n",
    "    #     return self.X * other.X + self.Y * other.Y\n",
    "    \n",
    "    def __mul__(self, alpha:float):\n",
    "        return Vector2(alpha * self.X, alpha * self.Y)\n",
    "    \n",
    "a = Vector2(5, 3)\n",
    "b = Vector2(6, 6)\n",
    "k = 3.\n",
    "\n",
    "print(\n",
    "    a.add(b),\n",
    "    Vector2.add_(a, b),\n",
    "    Vector2.add(a, b),\n",
    "    a + b,\n",
    "    \"\",\n",
    "    a.dot(b),\n",
    "    a * k,\n",
    "\n",
    "    sep=\"\\n\"\n",
    ")"
   ]
  },
  {
   "cell_type": "code",
   "execution_count": 187,
   "id": "47f091d4",
   "metadata": {},
   "outputs": [
    {
     "data": {
      "text/plain": [
       "{'X': 11, 'Y': 9}"
      ]
     },
     "execution_count": 187,
     "metadata": {},
     "output_type": "execute_result"
    }
   ],
   "source": [
    "vecA = {\"X\" : 5, \"Y\" : 3}\n",
    "vecB = {\"X\" : 6, \"Y\" : 6}\n",
    "\n",
    "def vec_add(a, b):\n",
    "    return {\n",
    "        \"X\" : a[\"X\"] + b[\"X\"],\n",
    "        \"Y\" : a[\"Y\"] + b[\"Y\"]\n",
    "    }\n",
    "\n",
    "vec_add(vecA, vecB)"
   ]
  },
  {
   "cell_type": "markdown",
   "id": "d52ae2ac",
   "metadata": {},
   "source": [
    "### Dataclasses"
   ]
  },
  {
   "cell_type": "code",
   "execution_count": 188,
   "id": "55ca4735",
   "metadata": {},
   "outputs": [
    {
     "name": "stdout",
     "output_type": "stream",
     "text": [
      "InvoiceItem(name='jablko', unit_name='ks', unit_quantity=12, unit_price=23.99)\n",
      "InvoiceItem(name='mrkev', unit_name='ks', unit_quantity=4, unit_price=17.5)\n",
      "InvoiceItem(name='portret', unit_name='h', unit_quantity=1.0, unit_price=350.0)\n",
      "Invoice(number='01042525', items=[InvoiceItem(name='jablko', unit_name='ks', unit_quantity=12, unit_price=23.99), InvoiceItem(name='mrkev', unit_name='ks', unit_quantity=4, unit_price=17.5), InvoiceItem(name='portret', unit_name='h', unit_quantity=1.0, unit_price=350.0)])\n",
      "707.88\n"
     ]
    }
   ],
   "source": [
    "from dataclasses import dataclass, field\n",
    "\n",
    "@dataclass\n",
    "class InvoiceItem:\n",
    "    name:str\n",
    "    unit_name:str = \"h\"\n",
    "    unit_quantity:float = 1.\n",
    "    unit_price:float = 350.\n",
    "\n",
    "    def total_cost(self) -> float:\n",
    "        return self.unit_price * self.unit_quantity\n",
    "    \n",
    "@dataclass\n",
    "class Invoice:\n",
    "    number:str\n",
    "    items:list[InvoiceItem] = field(default_factory=list)\n",
    "\n",
    "    def total_cost(self) -> float:\n",
    "        return sum(\n",
    "            (item.total_cost() for item in self.items)\n",
    "        )\n",
    "\n",
    "\n",
    "a = InvoiceItem(\"jablko\", \"ks\", 12, 23.99)\n",
    "b = InvoiceItem(\"mrkev\", \"ks\", 4, 17.50)\n",
    "c = InvoiceItem(\"portret\")\n",
    "\n",
    "C = Invoice(\"01042525\", [a, b, c])\n",
    "\n",
    "\n",
    "print(\n",
    "    a, b, c,\n",
    "    C,\n",
    "    C.total_cost(),\n",
    "\n",
    "    sep=\"\\n\"\n",
    ")"
   ]
  },
  {
   "cell_type": "markdown",
   "id": "7404160e",
   "metadata": {},
   "source": [
    "## Úvod do psaní větších programů / projektů\n",
    "### Zásady čitelného kódu\n",
    "Kdy není třeba psát čitelný kód?\n",
    "\n",
    "Pokud jde o rychlý projekt, ve kterém si potřebujeme něco spočítat, vyzkoušet, udělat demo, prototyp, nebo koncept pro větší projekt - kdykoliv, kdy kód, který píšeme nehodláme sdílet, rozvíjet déle jak pár dní na více než menší jednotky stovek řádků, můžeme si zásady čistého a čitelného kódu vesměs odpustit.\n",
    "Proč?\n",
    "Takový kód velmi rychle a inherentně ztrácí přehlednost - typicky nemá dobře vymyšlený objektový návrh, strukturu souborů, nemá nijak zvlášť dobře pojmenované třídy, funkce, ani proměnné, a ačkoliv se autorovi může zdát, že v projektu má přehled, ten se velmi rychle ztratí s časovým odstupem.\n",
    "\n",
    "---\n",
    "\n",
    "Vždycky je potřeba si při psaní kódu rozmyslet, jestli bude třeba kód v budoucnu rozvíjet (měl by být modulární?) a pokud ano, čistým kódem zajistit, aby jeho modularita nebyla nepříjemná z důvodu jeho nepřehlednosti.\n",
    "\n",
    "Dál je potřeba si rozmyslet, jestli na projektu budeme pracovat sami, nebo v teamu. Pokud se v budoucnosti najde v programu chyba, je možné, že ji bude hledat a opravovat jiný programátor? Pokud ano, je na nás, abychom čistým kódem zajistili, aby měl co nejjednoduší práci.\n",
    "\n",
    "Kdy tedy čistý kód psát?\n",
    "Když na projektu spolupracujeme, je dostatečně velký a významný, nebo jej budeme vyvíjet/upravovat v průběhu delšího časového úseku, nebo se k němu vracet.\n",
    "\n",
    "---\n",
    "\n",
    "Jaké jsou zásady čitelného kódu?\n",
    "- #### 1. Samodokumentace\n",
    "Nejdůležitější je tzv. samodokumentace.\n",
    "Je to proces intuitivního pojmenovávání proměnných, funkcí, tříd, případně dalších částí kódu (souborů, složek, balíčků, jmenných prostorů atp.)\n",
    "\n",
    "Veškerý kód, který má více než jen pár řádků, by měl být samodokumentující a k dalším zásadám přistupujeme postupně až když k dostatečné přehlednosti kódu tahle nestačí.\n",
    "\n",
    "- #### 2. Docstringy\n",
    "Ke každé třídě a funkci můžeme v pythonu připsat tzv. Docstring, ve kterém vysvětlíme její účel, nastíníme rozhodnutí implementace, nebo vysvětlíme její **signaturu**.\n",
    "\n",
    "**Signatura** je kombinace jména, parametrů a někdy i návrhového vzoru nějaké implementace. Vesměs se jedná o množinu prvků, které definují popisovanou strukturu.\n",
    "\n",
    "Docstringy se často v intergrovaných prostředích zobrazují při našeptávání, nebo najetí na jméno struktury, která docstring má.\n",
    "\n",
    "- #### 3. Komentáře\n",
    "Pokud nestačí dobré názvy doplněné o docstringy, dobře vychované programovací jazyky mívají možnost psát do kódu komentáře, ve kterých se dá více či méně rozšafně vysvětlovat veškeré záměry autora, další myšlenkové pochody, návrhy na alternativní implementace, nebo i instrukce ostatním programátorům pracujícím na stejném projektu.\n",
    "\n",
    "- #### 4. Dokumentace\n",
    "Je-li třeba - ať už, protože kód i při využití všech ostatních zásad stále není dostatečně přehledný, nebo s našim programem bude pracovat spostu dalších, potenciálně cizích, programátorů (open source) nebo uživatelů - může být dobré vytvořit formální dokumentaci, která je plně oddělená od kódu.\n",
    "\n",
    "Jedná se o soubor dokumentů, které popisují buď implementační detaily, signaturu všech částí kódu, strukturu projektu, vývojová rozhodnutí, omezení, poznámky k modularitě a rozšiřitelnosti atp. - Pokud váš kód budou používat další programátoři, například pokud vyvíjte knihovnu pro řešení nějakého problému, nebo se podílíte na vývoji nějakého projektu v zaměstnání, nebo open source komunitě.\n",
    "\n",
    "V jiném případě můžete v dokumentaci popisovat uživatelskou část vašeho programu. Pokud je váš kód například uživatelskou, nebo webovou aplikací, dokumentace by měla pojednávat o účelu programu, jak jej ovládat, jak skrze něj navigovat, jak si jej přizpůsobit a podobně.\n",
    "\n"
   ]
  },
  {
   "cell_type": "markdown",
   "id": "05981b06",
   "metadata": {},
   "source": [
    "### Strukturování kódu do souborů a složek\n",
    "Podobně, jako kód samotný můžeme strukturovat do funkcí a tříd, tyhle větší bloky můžeme třídit do jednotlivých souborů a soubory do složek.\n",
    "\n",
    "Některé knihovny to dělají automaticky a nebo dokonce předpokládají, že konkrétní kusy kódu, nebo jiné vstupní soubory (html stránky, obrázky...) budou ve specifických složkách.\n",
    "\n",
    "Pravděpodobně se na jednu takovou knihovnu podíváme v průběhu tohohle kurzu: Flask"
   ]
  },
  {
   "cell_type": "markdown",
   "id": "6d253961",
   "metadata": {},
   "source": [
    "### Verzovací systém\n",
    "Verzovací systém je algoritmus, který si pomocí chytré datové struktury (povětšinou nějaká forma semiperzistentního zakořeněného stromu) umí pamatovat jednotlivé úpravy v historii našich projektů a nad takovými \"verzemi\" umí dělat různé operace.\n",
    "\n",
    "Mezi takové operace patří kromě přidávání nových verzí třeba paralelní vývoj v několika větvích a pak jejich chytré sloučení tak, aby se zachovaly změny v různých částech kódu, a rozhodlo se o těch změnách, které se zachovají, pokud se týkají stejných částí kódu.\n",
    "\n",
    "Takový systém pomáhá při spolupráci teamů na větších projektech.\n",
    "\n",
    "Typicky se používá Git a projekty se sdílí přes platformy jako GitHub, GitLab, nebo třeba Microsoft Azure DevOps Repos."
   ]
  },
  {
   "cell_type": "markdown",
   "id": "c7202559",
   "metadata": {},
   "source": [
    "Todo git"
   ]
  },
  {
   "cell_type": "markdown",
   "id": "3dfecd13",
   "metadata": {},
   "source": [
    "## Příklady často používaných knihoven a práce s nimi\n",
    "### 1. Numpy"
   ]
  },
  {
   "cell_type": "code",
   "execution_count": 189,
   "id": "0411d88b",
   "metadata": {},
   "outputs": [],
   "source": [
    "import numpy as np"
   ]
  },
  {
   "cell_type": "code",
   "execution_count": 190,
   "id": "1a1e0855",
   "metadata": {},
   "outputs": [
    {
     "name": "stdout",
     "output_type": "stream",
     "text": [
      "[1 1 1]\n",
      "[[1]\n",
      " [1]\n",
      " [1]]\n",
      "[[1 1 1]]\n",
      "[4 4 4]\n",
      "[3 3 3]\n",
      "[0.33333333 0.33333333 0.33333333]\n",
      "\n",
      "---\n",
      "\n",
      "[2 3 4]\n",
      "[ 0 -1 -2]\n",
      "[1 2 3]\n",
      "[1.         0.5        0.33333333]\n",
      "6\n",
      "6\n",
      "6\n",
      "\n",
      "---\n",
      "\n",
      "[[1 1 1]\n",
      " [1 1 1]]\n",
      "[[1 1]\n",
      " [1 1]\n",
      " [1 1]]\n",
      "[[6 6 6]\n",
      " [6 6 6]]\n",
      "[[5 5 5]\n",
      " [5 5 5]]\n",
      "[[0.2 0.2 0.2]\n",
      " [0.2 0.2 0.2]]\n",
      "\n",
      "---\n",
      "\n",
      "[[2 3 4]\n",
      " [5 6 7]]\n",
      "[[ 0 -1 -2]\n",
      " [-3 -4 -5]]\n",
      "[[1 2 3]\n",
      " [4 5 6]]\n",
      "[[1.         0.5        0.33333333]\n",
      " [0.25       0.2        0.16666667]]\n",
      "[[ 6 15]\n",
      " [ 6 15]]\n",
      "[[ 6  6]\n",
      " [15 15]]\n",
      "\n",
      "---\n",
      "\n",
      "[18 24 30]\n",
      "[[18]\n",
      " [24]\n",
      " [30]]\n",
      "\n",
      "---\n",
      "\n"
     ]
    }
   ],
   "source": [
    "a = np.array([1, 1, 1])\n",
    "print(a)            # Řádkový vektor\n",
    "print(a[:, None])   # Sloupcový vektor\n",
    "print(a[:, None].T) # Transpozice\n",
    "\n",
    "# Operace \"po složkách\"\n",
    "print(a+3)\n",
    "print(a*3)\n",
    "print(a/3)\n",
    "\n",
    "spacer()\n",
    "\n",
    "b = np.array([1, 2, 3])\n",
    "\n",
    "print(a+b)\n",
    "print(a-b)\n",
    "print(a*b)\n",
    "print(a/b)\n",
    "\n",
    "print(a@b)\n",
    "print(b@a)\n",
    "print(np.dot(a, b))\n",
    "\n",
    "spacer()\n",
    "\n",
    "M = np.array([[1, 1, 1], [1, 1, 1]])\n",
    "print(M)\n",
    "print(M.T)\n",
    "\n",
    "print(M + 5)\n",
    "print(M * 5)\n",
    "print(M / 5)\n",
    "\n",
    "spacer()\n",
    "\n",
    "N = np.array([[1, 2, 3], [4, 5, 6]])\n",
    "\n",
    "print(M+N)\n",
    "print(M-N)\n",
    "print(M*N)\n",
    "print(M/N)\n",
    "\n",
    "print(M@N.T)        # Maticové násobení\n",
    "print(N@M.T)\n",
    "\n",
    "spacer()\n",
    "\n",
    "c = np.array([2, 4])\n",
    "print(c@N)\n",
    "print(N.T@c[:, None])\n",
    "\n",
    "spacer()\n",
    "\n",
    "\n"
   ]
  },
  {
   "cell_type": "code",
   "execution_count": 191,
   "id": "8da761c9",
   "metadata": {},
   "outputs": [
    {
     "name": "stdout",
     "output_type": "stream",
     "text": [
      "(3, 4, 5)\n",
      "[[[ 0  1  2  3  4]\n",
      "  [ 5  6  7  8  9]\n",
      "  [10 11 12 13 14]\n",
      "  [15 16 17 18 19]]\n",
      "\n",
      " [[20 21 22 23 24]\n",
      "  [25 26 27 28 29]\n",
      "  [30 31 32 33 34]\n",
      "  [35 36 37 38 39]]\n",
      "\n",
      " [[40 41 42 43 44]\n",
      "  [45 46 47 48 49]\n",
      "  [50 51 52 53 54]\n",
      "  [55 56 57 58 59]]]\n",
      "\n",
      "---\n",
      "\n",
      "26\n",
      "[[ 5  6  7  8  9]\n",
      " [25 26 27 28 29]\n",
      " [45 46 47 48 49]]\n",
      "[21 26 31 36]\n",
      "\n",
      "---\n",
      "\n",
      "[26 27 28 29]\n"
     ]
    }
   ],
   "source": [
    "#Indexování do matic / n-dimenzionálních polí\n",
    "X = np.arange(3*4*5)\n",
    "X = X.reshape((3, 4, 5))\n",
    "\n",
    "print(X.shape)\n",
    "print(X)\n",
    "spacer()\n",
    "print(X[1,1,1])\n",
    "print(X[:, 1, :])\n",
    "print(X[1, :, 1])\n",
    "spacer()\n",
    "print(X[1][1][1:])"
   ]
  },
  {
   "cell_type": "code",
   "execution_count": 192,
   "id": "19c95ac8",
   "metadata": {},
   "outputs": [
    {
     "name": "stdout",
     "output_type": "stream",
     "text": [
      "[ 2  3  4  5  6  7  8  9 10 11 12 13 14 15]\n",
      "\n",
      "[ 2  5  9 12 16]\n",
      "\n",
      "[[ 1.   3.   5. ]\n",
      " [ 2.   4.5  7. ]\n",
      " [ 3.   6.   9. ]\n",
      " [ 4.   7.5 11. ]\n",
      " [ 5.   9.  13. ]]\n",
      "\n",
      "[[ 5  6 15]\n",
      " [12 10  5]]\n",
      "\n",
      "[[1 0 0 0]\n",
      " [0 1 0 0]\n",
      " [0 0 1 0]\n",
      " [0 0 0 1]]\n",
      "\n",
      "[[1 1]\n",
      " [1 1]\n",
      " [1 1]]\n",
      "\n",
      "[[ 1  5 10  1  5 10]\n",
      " [ 1  5 10  1  5 10]\n",
      " [ 1  5 10  1  5 10]]\n",
      "\n",
      "[[0. 0. 0.]\n",
      " [0. 0. 0.]]\n",
      "\n",
      "[[5 1 5 1 1 1 1 1 1 5 5 1]\n",
      " [1 5 1 7 1 1 5 5 1 5 1 1]\n",
      " [1 1 1 5 5 1 1 1 7 5 5 1]\n",
      " [7 5 5 5 5 5 5 1 1 7 7 5]\n",
      " [1 7 7 5 1 1 5 1 1 5 1 5]\n",
      " [5 1 1 1 1 5 1 7 5 1 5 7]\n",
      " [7 7 1 5 1 7 5 1 7 1 5 7]\n",
      " [1 1 1 1 1 5 5 1 1 5 1 5]\n",
      " [5 1 1 1 5 1 5 1 5 5 7 1]\n",
      " [1 1 5 5 5 5 5 1 1 5 5 1]\n",
      " [5 5 5 5 5 5 1 1 5 5 1 1]\n",
      " [5 5 1 1 1 5 1 1 5 5 5 5]]\n"
     ]
    }
   ],
   "source": [
    "# Generování dat\n",
    "a = np.array([[3, 5, 1], [2, 9, 3]])\n",
    "\n",
    "print(\n",
    "    np.arange(2, 16),\n",
    "    np.linspace(2, 16, 5, dtype=int),\n",
    "    np.linspace([1, 3, 5], [5, 9, 13], 5),\n",
    "    np.random.randint(2, 16, (2, 3)),\n",
    "    np.eye(4, dtype=int),\n",
    "    np.ones((3, 2), dtype=int),\n",
    "    np.tile([1, 5, 10], (3, 2)),\n",
    "\n",
    "    np.zeros_like(a, dtype=float),\n",
    "\n",
    "    np.random.choice([1, 5, 7], (12, 12), p=[0.5, 0.4, 0.1]),\n",
    "    sep=\"\\n\\n\"\n",
    ")"
   ]
  }
 ],
 "metadata": {
  "kernelspec": {
   "display_name": "Python 3",
   "language": "python",
   "name": "python3"
  },
  "language_info": {
   "codemirror_mode": {
    "name": "ipython",
    "version": 3
   },
   "file_extension": ".py",
   "mimetype": "text/x-python",
   "name": "python",
   "nbconvert_exporter": "python",
   "pygments_lexer": "ipython3",
   "version": "3.13.3"
  }
 },
 "nbformat": 4,
 "nbformat_minor": 5
}
