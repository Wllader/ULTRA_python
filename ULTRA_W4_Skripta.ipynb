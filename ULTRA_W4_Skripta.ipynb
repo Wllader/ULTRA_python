{
 "cells": [
  {
   "cell_type": "markdown",
   "id": "6b6cb941",
   "metadata": {},
   "source": [
    "# Týden 4\n",
    "## 0. Obsah\n",
    "\n",
    "- TkInter showcase\n",
    "    - Kalkulačka\n",
    "- Custom TkInter\n",
    "- Představení projektu\n",
    "    - Webová aplikace pro zobrazení a analýzu burzovních dat\n",
    "    - Typické členení aplikací\n",
    "        - Definice pojmů a jejich vztah\n",
    "            - Backend\n",
    "            - Frontend\n",
    "            - Client\n",
    "            - Server\n",
    "            - API (a REST API)\n",
    "            - GUI"
   ]
  },
  {
   "cell_type": "markdown",
   "id": "579bef43",
   "metadata": {},
   "source": [
    "## 🔧 1. TkInter"
   ]
  },
  {
   "cell_type": "code",
   "execution_count": null,
   "id": "73e76471",
   "metadata": {},
   "outputs": [],
   "source": [
    "import tkinter as tk"
   ]
  },
  {
   "cell_type": "code",
   "execution_count": null,
   "id": "b0b079bc",
   "metadata": {},
   "outputs": [],
   "source": [
    "# Vytvoření okna\n",
    "\n",
    "root = tk.Tk()\n",
    "root.title(\"My App\")\n",
    "root.geometry(\"300x200\")  # width x height\n",
    "root.mainloop()"
   ]
  },
  {
   "cell_type": "markdown",
   "id": "3be0cec4",
   "metadata": {},
   "source": [
    "### 📑 Widgets Overview"
   ]
  },
  {
   "cell_type": "code",
   "execution_count": null,
   "id": "e9d7f02c",
   "metadata": {},
   "outputs": [],
   "source": [
    "label = tk.Label(root, text=\"Hello, Tkinter!\")\n",
    "styled_label = tk.Label(root, text=\"Styled Text\", fg=\"blue\", bg=\"yellow\", font=(\"Arial\", 14))\n",
    "\n",
    "label.pack()\n",
    "styled_label.pack()"
   ]
  },
  {
   "cell_type": "code",
   "execution_count": null,
   "id": "48a6f31a",
   "metadata": {},
   "outputs": [],
   "source": [
    "entry = tk.Entry(root)\n",
    "entry.pack()\n",
    "\n",
    "value = entry.get()\n",
    "entry.insert(0, \"Default text\")"
   ]
  },
  {
   "cell_type": "code",
   "execution_count": null,
   "id": "e2506510",
   "metadata": {},
   "outputs": [],
   "source": [
    "def say_hello():\n",
    "    print(\"Hello!\")\n",
    "\n",
    "button = tk.Button(root, text=\"Click Me\", command=say_hello)\n",
    "quit_button = tk.Button(root, text=\"Quit\", command=root.destroy)\n",
    "button.pack()\n",
    "quit_button.pack()"
   ]
  },
  {
   "cell_type": "code",
   "execution_count": null,
   "id": "f01c0eb4",
   "metadata": {},
   "outputs": [],
   "source": [
    "text = tk.Text(root, height=5, width=30)\n",
    "text.pack()"
   ]
  },
  {
   "cell_type": "code",
   "execution_count": null,
   "id": "98e7be92",
   "metadata": {},
   "outputs": [],
   "source": [
    "var = tk.IntVar()\n",
    "check = tk.Checkbutton(root, text=\"Check me\", variable=var)\n",
    "check.pack()\n",
    "\n",
    "print(var.get())"
   ]
  },
  {
   "cell_type": "code",
   "execution_count": null,
   "id": "ba25c74f",
   "metadata": {},
   "outputs": [],
   "source": [
    "var = tk.StringVar()\n",
    "rb1 = tk.Radiobutton(root, text=\"Option 1\", variable=var, value=\"1\")\n",
    "rb2 = tk.Radiobutton(root, text=\"Option 2\", variable=var, value=\"2\")\n",
    "rb1.pack()\n",
    "rb2.pack()"
   ]
  },
  {
   "cell_type": "code",
   "execution_count": null,
   "id": "6f1b90e8",
   "metadata": {},
   "outputs": [],
   "source": [
    "listbox = tk.Listbox(root)\n",
    "listbox.insert(1, \"Item 1\")\n",
    "listbox.insert(2, \"Item 2\")\n",
    "listbox.pack()"
   ]
  },
  {
   "cell_type": "markdown",
   "id": "6e1995b7",
   "metadata": {},
   "source": [
    "### Rozložení"
   ]
  },
  {
   "cell_type": "code",
   "execution_count": null,
   "id": "17f2ec15",
   "metadata": {},
   "outputs": [],
   "source": [
    "widget = tk.Label(root, text=\"Test\")\n",
    "\n",
    "widget.pack(side=\"top\")  # or left, right, bottom"
   ]
  },
  {
   "cell_type": "code",
   "execution_count": null,
   "id": "92bcd6dd",
   "metadata": {},
   "outputs": [],
   "source": [
    "label.grid(row=0, column=0)\n",
    "entry.grid(row=0, column=1)"
   ]
  },
  {
   "cell_type": "code",
   "execution_count": null,
   "id": "1a38189b",
   "metadata": {},
   "outputs": [],
   "source": [
    "widget.place(x=50, y=100)"
   ]
  },
  {
   "cell_type": "markdown",
   "id": "10f21f9c",
   "metadata": {},
   "source": [
    "### Eventy a binding"
   ]
  },
  {
   "cell_type": "code",
   "execution_count": null,
   "id": "d7e0daa8",
   "metadata": {},
   "outputs": [],
   "source": [
    "def on_key(event):\n",
    "    print(\"You pressed\", event.char)\n",
    "\n",
    "root.bind(\"<Key>\", on_key)"
   ]
  },
  {
   "cell_type": "markdown",
   "id": "ea773303",
   "metadata": {},
   "source": [
    "### Messagebox (Popupy)"
   ]
  },
  {
   "cell_type": "code",
   "execution_count": null,
   "id": "15879b2e",
   "metadata": {},
   "outputs": [],
   "source": [
    "from tkinter import messagebox\n",
    "messagebox.showinfo(\"Title\", \"This is an info box\")"
   ]
  },
  {
   "cell_type": "markdown",
   "id": "7b28bfde",
   "metadata": {},
   "source": [
    "### Frame (Rámec pro shlukování widgetů)"
   ]
  },
  {
   "cell_type": "code",
   "execution_count": null,
   "id": "dab78736",
   "metadata": {},
   "outputs": [],
   "source": [
    "frame = tk.Frame(root)\n",
    "frame.pack()\n",
    "\n",
    "tk.Label(frame, text=\"Inside Frame\").pack()"
   ]
  },
  {
   "cell_type": "markdown",
   "id": "fdfd63a0",
   "metadata": {},
   "source": [
    "## 2. CustomTkInter"
   ]
  },
  {
   "cell_type": "code",
   "execution_count": null,
   "id": "e400f9c7",
   "metadata": {},
   "outputs": [],
   "source": [
    "import customtkinter as ctk\n",
    "ctk.set_appearance_mode(\"System\")  # Modes: \"System\" (default), \"Dark\", \"Light\"\n",
    "ctk.set_default_color_theme(\"blue\")  # Themes: \"blue\" (default), \"green\", \"dark-blue\" "
   ]
  },
  {
   "cell_type": "code",
   "execution_count": null,
   "id": "803b942d",
   "metadata": {},
   "outputs": [],
   "source": [
    "app = ctk.CTk()\n",
    "app.title(\"CustomTkinter App\")\n",
    "app.geometry(\"400x300\")\n",
    "app.mainloop()"
   ]
  },
  {
   "cell_type": "code",
   "execution_count": null,
   "id": "0959fab9",
   "metadata": {},
   "outputs": [],
   "source": [
    "label = ctk.CTkLabel(app, text=\"Hello, CustomTkinter!\")\n",
    "label.pack(pady=10)"
   ]
  },
  {
   "cell_type": "code",
   "execution_count": null,
   "id": "f9a6f752",
   "metadata": {},
   "outputs": [],
   "source": [
    "entry = ctk.CTkEntry(app, placeholder_text=\"Enter text\")\n",
    "entry.pack(pady=10)\n",
    "\n",
    "value = entry.get()\n",
    "entry.insert(0, \"Default Text\")"
   ]
  },
  {
   "cell_type": "code",
   "execution_count": null,
   "id": "87d5ed35",
   "metadata": {},
   "outputs": [],
   "source": [
    "def button_callback():\n",
    "    print(\"Button clicked!\")\n",
    "\n",
    "button = ctk.CTkButton(app, text=\"Click Me\", command=button_callback)\n",
    "quit_button = ctk.CTkButton(app, test=\"Quit\", command=app.destroy)\n",
    "\n",
    "button.pack(pady=10)"
   ]
  },
  {
   "cell_type": "code",
   "execution_count": null,
   "id": "ac815977",
   "metadata": {},
   "outputs": [],
   "source": [
    "textbox = ctk.CTkTextbox(app, width=200, height=100)\n",
    "textbox.pack(pady=10)"
   ]
  },
  {
   "cell_type": "code",
   "execution_count": null,
   "id": "b7511547",
   "metadata": {},
   "outputs": [],
   "source": [
    "checkbox = ctk.CTkCheckBox(app, text=\"Accept Terms\")\n",
    "checkbox.pack(pady=10)\n",
    "\n",
    "checked = checkbox.get()"
   ]
  },
  {
   "cell_type": "code",
   "execution_count": null,
   "id": "3d2a1bf0",
   "metadata": {},
   "outputs": [],
   "source": [
    "seg_button = ctk.CTkSegmentedButton(app, values=[\"Option 1\", \"Option 2\"])\n",
    "seg_button.pack(pady=10)"
   ]
  },
  {
   "cell_type": "code",
   "execution_count": null,
   "id": "dd27ef49",
   "metadata": {},
   "outputs": [],
   "source": [
    "slider = ctk.CTkSlider(app, from_=0, to=100, number_of_steps=5)\n",
    "slider.pack(pady=10)"
   ]
  },
  {
   "cell_type": "code",
   "execution_count": null,
   "id": "b97c2f6f",
   "metadata": {},
   "outputs": [],
   "source": [
    "progress = ctk.CTkProgressBar(app, mode='determinate')\n",
    "progress.set(0.5)\n",
    "progress.pack(pady=10)"
   ]
  },
  {
   "cell_type": "code",
   "execution_count": null,
   "id": "2e3537ef",
   "metadata": {},
   "outputs": [],
   "source": [
    "option_menu = ctk.CTkOptionMenu(app, values=[\"Option A\", \"Option B\"])\n",
    "option_menu.pack(pady=10)\n",
    "\n",
    "selected = option_menu.get()"
   ]
  },
  {
   "cell_type": "code",
   "execution_count": null,
   "id": "1e8da75d",
   "metadata": {},
   "outputs": [],
   "source": [
    "frame = ctk.CTkFrame(app)\n",
    "frame.pack(pady=10)\n",
    "ctk.CTkLabel(frame, text=\"Inside Frame\").pack()"
   ]
  }
 ],
 "metadata": {
  "language_info": {
   "name": "python"
  }
 },
 "nbformat": 4,
 "nbformat_minor": 5
}
