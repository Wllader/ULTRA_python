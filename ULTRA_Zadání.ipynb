{
 "cells": [
  {
   "cell_type": "markdown",
   "id": "222a9817",
   "metadata": {},
   "source": [
    "# Zadání samostatných prací během ULTRA kurzu\n",
    "## 0. Obsah\n",
    "- W1\n",
    "    - Trojúhelníky\n",
    "    - Faktury\n",
    "    - Aproximace integrálu\n",
    "- W2\n",
    "    - Šachovnice\n",
    "    - Bayerův filtr"
   ]
  },
  {
   "cell_type": "markdown",
   "id": "2b56edb2",
   "metadata": {},
   "source": [
    "## 1. W1\n",
    "### Trojúhelníky\n",
    "1. Napište funkci, která vypíše do konzole pravoúhlý trojúhelník složený z hvězdiček. Funkce by měla mít parametr určující výšku vypsaného trojúhelníku.\n",
    "\n",
    "```\n",
    "> pravouhly(5)\n",
    "*\n",
    "**\n",
    "***\n",
    "****\n",
    "*****\n",
    "```\n",
    "\n",
    "2. Napište funkci, která vypíše do konzole *rovnoramenný* trojúhelník složený z hvězdiček. Funce by měla mít parametr určující jeho výšku\n",
    "    - Může pomoct si napsat tzv. *pomocnou funkci*, která bude takový trojúhelník vypisovat podle parametru šířky.\n",
    "\n",
    "```\n",
    "> rovnoramenny(5)\n",
    "    *    \n",
    "   ***   \n",
    "  *****  \n",
    " ******* \n",
    "*********\n",
    "```\n",
    "\n",
    "3. Napište třídu `Triangle`, jejíž konstruktor bude brát argument pro výšku a na jejíž instanci bude možné zavolat dvě metody, vypíší buď pravoúhlou, nebo rovnoramennou variantu trojúhelníku s takovou výšku.\n",
    "\n",
    "4. Přepište instanční metody třídy `Triangle` do funkcí - tedy aby místo vypisování trojúhelníků jen vracel odpovídající řetěžce.\n",
    "\n",
    "5. Importujte třídu `Triangle` z jiného souboru, vytvořte její instanci a zavolejte její instanční metody.\n",
    "\n",
    "### Faktury\n",
    "1. Napište třídu `Invoice`, která bude uchovávat položky k vyfakturování a bude umět vrátit celkovou částku k zaplacení. Taková položka na faktuře má typicky název, měrnou jednotku, počet vyfakturovaných jednotek a cenu za jednotku.\n",
    "Např.:\n",
    "    - Název: Programování\n",
    "    - Měrná jednotka: h (hodina)\n",
    "    - Počet vyfakturovaných jednotek: 160\n",
    "    - Cena za jednotku: 250\n",
    "\n",
    "2. Pokud vaše implementace obsahuje položky v podobě `dict`, nebo jiných základních pythonních typů, vytvořte si třídu `InvoiceItem`, která implementaci zjednodušší.\n",
    "\n",
    "### Aproximace integrálu\n",
    "1. Napište funkci, která odhaduje obsah pod křivkou funkce `sin(x)` pomocí součtu obdelníků. Použijte knihovnu Numpy a její funkce.\n",
    "\n",
    "2. Zobecněte implementaci tak, aby odhadovala obsah pod křivkou libovolné funkce `f(x)`\n",
    "\n",
    "## 2. W2\n",
    "### Šachovnice\n",
    "1. Pomocí knihoven Numpy a OpenCV (CV2) vygenerujte obrázek střídajících se černých a bílých čtercových polí (šachovnici)\n",
    "\n",
    "2. Algoritmus zabalte do funkce a šachovnici generujte podle vstupních parametrů na šířku a výšku (v počtu polí) a rozměru pro velikost pole (délka strany čtverečku v pixelech)\n",
    "\n",
    "### Bayerův filtr\n",
    "1. Analogicky k šachovnici napište funkci, která místo černobílé šachovnice bude generovat tzv. Bayerovu masku, která obsahuje Červená, Modrá a Zelená pole v poměru 1:1:2"
   ]
  }
 ],
 "metadata": {
  "language_info": {
   "name": "python"
  }
 },
 "nbformat": 4,
 "nbformat_minor": 5
}
