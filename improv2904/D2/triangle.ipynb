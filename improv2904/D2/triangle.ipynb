{
 "cells": [
  {
   "cell_type": "markdown",
   "id": "ec900d6f",
   "metadata": {},
   "source": [
    "# Pravoúhlý trojúhelník"
   ]
  },
  {
   "cell_type": "code",
   "execution_count": null,
   "id": "80478131",
   "metadata": {},
   "outputs": [
    {
     "name": "stdout",
     "output_type": "stream",
     "text": [
      "*\n",
      "**\n",
      "***\n",
      "****\n",
      "*****\n",
      "******\n"
     ]
    }
   ],
   "source": [
    "vyska = 6\n",
    "for i in range(1, 6+1):\n",
    "    print(i*\"*\")"
   ]
  },
  {
   "cell_type": "code",
   "execution_count": 11,
   "id": "eb61a7ac",
   "metadata": {},
   "outputs": [
    {
     "name": "stdout",
     "output_type": "stream",
     "text": [
      "*\n",
      "**\n",
      "***\n",
      "****\n",
      "*****\n",
      "******\n",
      "*******\n",
      "********\n",
      "*********\n",
      "**********\n",
      "***********\n",
      "************\n"
     ]
    }
   ],
   "source": [
    "def triangle_ra(vyska):\n",
    "    for i in range(1, vyska+1):\n",
    "        print(i*\"*\")\n",
    "\n",
    "triangle_ra(12)"
   ]
  },
  {
   "cell_type": "markdown",
   "id": "04066f72",
   "metadata": {},
   "source": [
    "# Rovnoramenný trojúhelník\n",
    "## Podle šířky základny:"
   ]
  },
  {
   "cell_type": "code",
   "execution_count": 12,
   "id": "5f089bee",
   "metadata": {},
   "outputs": [
    {
     "name": "stdout",
     "output_type": "stream",
     "text": [
      "     *     \n",
      "    ***    \n",
      "   *****   \n",
      "  *******  \n",
      " ********* \n",
      "***********\n"
     ]
    }
   ],
   "source": [
    "def triangle_el_w(sirka):\n",
    "    for i in range(1, sirka+1, 2):\n",
    "        pocet_mezer = (sirka - i) // 2\n",
    "\n",
    "        print(\n",
    "            pocet_mezer*\" \" + i*\"*\" + pocet_mezer*\" \"\n",
    "        )\n",
    "\n",
    "triangle_el_w(12)"
   ]
  },
  {
   "cell_type": "markdown",
   "id": "bc2c3f98",
   "metadata": {},
   "source": [
    "## Podle výšky\n",
    "### Jak vypočítat šířku z výšky?\n",
    "Už máme funkci na generování rovnoramenných trojúhelníků ze šířky - co kdyby šlo z výšky vypočítat šířku a pak už bychom měli hotovo?\n",
    "\n",
    "K tomu se hodí nějaká matematika: __Aritmetické posloupnosti__.\n",
    "\n",
    "V prvním řádku máme jednu hvězdičku: $a_1 = 1$\n",
    "\n",
    "V posledním řádku máme neznámý počet hvězdiček, ale víme, kolikátý řádek to je! $a_n = ?$, kde $n =$ výška trojúhelníku  \n",
    "\n",
    "Rozdíl počtu hvězdiček v navazujících řádcích je 2: $d = 2$\n",
    "\n",
    "Kolik hvězdiček je v posledním řádku? $a_n = a_1 + (n-1)\\cdot d = 1 + 2(n-1)$, kde $n$ je výška trojúhelníku!"
   ]
  },
  {
   "cell_type": "code",
   "execution_count": null,
   "id": "1df9b59e",
   "metadata": {},
   "outputs": [
    {
     "name": "stdout",
     "output_type": "stream",
     "text": [
      "           *           \n",
      "          ***          \n",
      "         *****         \n",
      "        *******        \n",
      "       *********       \n",
      "      ***********      \n",
      "     *************     \n",
      "    ***************    \n",
      "   *****************   \n",
      "  *******************  \n",
      " ********************* \n",
      "***********************\n"
     ]
    }
   ],
   "source": [
    "def triangle_el_h(vyska):\n",
    "    sirka = 1 + (vyska - 1)*2\n",
    "    triangle_el_w(sirka)\n",
    "\n",
    "triangle_el_h(12)"
   ]
  },
  {
   "cell_type": "code",
   "execution_count": 14,
   "id": "08deb8b5",
   "metadata": {},
   "outputs": [
    {
     "name": "stdout",
     "output_type": "stream",
     "text": [
      "     *     \n",
      "    ***    \n",
      "   *****   \n",
      "  *******  \n",
      " ********* \n",
      "***********\n"
     ]
    }
   ],
   "source": [
    "class Triangle:\n",
    "    # Konstruktor:\n",
    "    def __init__(self, vyska):\n",
    "        self.vyska = vyska\n",
    "\n",
    "    @staticmethod\n",
    "    def fromSirka(sirka):\n",
    "        vyska = (sirka + 1)//2\n",
    "        return Triangle(vyska)\n",
    "\n",
    "    # Privátní API\n",
    "    def _triangle_ra(self, vyska):\n",
    "        for i in range(1, vyska+1):\n",
    "            print(i*\"*\")\n",
    "\n",
    "    def _triangle_el_w(self, sirka):\n",
    "        for i in range(1, sirka+1, 2):\n",
    "            pocet_mezer = (sirka - i) // 2\n",
    "\n",
    "            print(\n",
    "                pocet_mezer*\" \" + i*\"*\" + pocet_mezer*\" \"\n",
    "            )\n",
    "\n",
    "    def _triangle_el_h(self, vyska):\n",
    "        sirka = 1 + (vyska - 1)*2\n",
    "        self._triangle_el_w(sirka)\n",
    "\n",
    "    # Veřejné API:\n",
    "    def pravouhly(self):\n",
    "        self._triangle_ra(self.vyska)\n",
    "\n",
    "    def rovnoramenny(self):\n",
    "        self._triangle_el_h(self.vyska)\n",
    "\n",
    "t = Triangle(12)\n",
    "\n",
    "# t.rovnoramenny()\n",
    "# print()\n",
    "# t.pravouhly()\n",
    "\n",
    "t2 = Triangle.fromSirka(12)\n",
    "t2.rovnoramenny()\n"
   ]
  }
 ],
 "metadata": {
  "kernelspec": {
   "display_name": "Python 3",
   "language": "python",
   "name": "python3"
  },
  "language_info": {
   "codemirror_mode": {
    "name": "ipython",
    "version": 3
   },
   "file_extension": ".py",
   "mimetype": "text/x-python",
   "name": "python",
   "nbconvert_exporter": "python",
   "pygments_lexer": "ipython3",
   "version": "3.13.3"
  }
 },
 "nbformat": 4,
 "nbformat_minor": 5
}
