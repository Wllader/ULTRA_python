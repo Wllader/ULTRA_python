{
 "cells": [
  {
   "cell_type": "markdown",
   "id": "ad6a5b6e",
   "metadata": {},
   "source": [
    "# Týden 3\n",
    "## 0. Obsah\n",
    "\n",
    "- Todo PyGame"
   ]
  }
 ],
 "metadata": {
  "language_info": {
   "name": "python"
  }
 },
 "nbformat": 4,
 "nbformat_minor": 5
}
