{
 "cells": [
  {
   "cell_type": "markdown",
   "id": "af018c31",
   "metadata": {},
   "source": [
    "# Nadpis\n",
    "## PodNadpis\n",
    "### PodPodNadpis\n",
    "\n",
    "Normální text\n",
    "\n",
    "*Text kurzívou*\n",
    "\n",
    "**tučný text**\n",
    "\n",
    "- odrážka\n",
    "2. číslované odrážky\n",
    "\n",
    "$$ \\frac{1}{2} $$"
   ]
  },
  {
   "cell_type": "code",
   "execution_count": 1,
   "id": "1d113ca9",
   "metadata": {},
   "outputs": [
    {
     "name": "stdout",
     "output_type": "stream",
     "text": [
      "Ahoj\n"
     ]
    }
   ],
   "source": [
    "print(\"Ahoj\")"
   ]
  }
 ],
 "metadata": {
  "kernelspec": {
   "display_name": "Python 3",
   "language": "python",
   "name": "python3"
  },
  "language_info": {
   "codemirror_mode": {
    "name": "ipython",
    "version": 3
   },
   "file_extension": ".py",
   "mimetype": "text/x-python",
   "name": "python",
   "nbconvert_exporter": "python",
   "pygments_lexer": "ipython3",
   "version": "3.13.7"
  }
 },
 "nbformat": 4,
 "nbformat_minor": 5
}
