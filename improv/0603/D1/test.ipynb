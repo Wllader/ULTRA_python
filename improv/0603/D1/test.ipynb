{
 "cells": [
  {
   "cell_type": "markdown",
   "id": "7dba3c60",
   "metadata": {},
   "source": [
    "Tímhle způsobem vypíšeme v pythonu text:"
   ]
  },
  {
   "cell_type": "code",
   "execution_count": 1,
   "id": "1d238f6b",
   "metadata": {},
   "outputs": [
    {
     "name": "stdout",
     "output_type": "stream",
     "text": [
      "Hello world!\n"
     ]
    }
   ],
   "source": [
    "print(\"Hello world!\")"
   ]
  }
 ],
 "metadata": {
  "kernelspec": {
   "display_name": "Python 3",
   "language": "python",
   "name": "python3"
  },
  "language_info": {
   "codemirror_mode": {
    "name": "ipython",
    "version": 3
   },
   "file_extension": ".py",
   "mimetype": "text/x-python",
   "name": "python",
   "nbconvert_exporter": "python",
   "pygments_lexer": "ipython3",
   "version": "3.13.3"
  }
 },
 "nbformat": 4,
 "nbformat_minor": 5
}
