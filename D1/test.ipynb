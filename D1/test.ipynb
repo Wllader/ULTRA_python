{
 "cells": [
  {
   "cell_type": "markdown",
   "id": "2a1cb638",
   "metadata": {},
   "source": [
    "# Tohle je nadpis\n",
    "## Tohle je podnadpis\n",
    "### Tohle je pod-podnadpis\n",
    "\n",
    "---\n",
    "\n",
    "Normální text\n",
    "\n",
    "$$\\frac{x - 1}{y} \\ \\text{Tohle je matematický text}$$"
   ]
  },
  {
   "cell_type": "code",
   "execution_count": 4,
   "id": "4cbd9b77",
   "metadata": {},
   "outputs": [
    {
     "data": {
      "text/plain": [
       "[2.0,\n",
       " 1.0,\n",
       " 0.6666666666666666,\n",
       " 0.5,\n",
       " 0.4,\n",
       " 0.3333333333333333,\n",
       " 0.2857142857142857,\n",
       " 0.25,\n",
       " 0.2222222222222222,\n",
       " 0.2,\n",
       " 0.18181818181818182,\n",
       " 0.16666666666666666]"
      ]
     },
     "execution_count": 4,
     "metadata": {},
     "output_type": "execute_result"
    }
   ],
   "source": [
    "l = [ 2/(i + 1) for i in range(12)]\n",
    "l"
   ]
  }
 ],
 "metadata": {
  "kernelspec": {
   "display_name": "Python 3",
   "language": "python",
   "name": "python3"
  },
  "language_info": {
   "codemirror_mode": {
    "name": "ipython",
    "version": 3
   },
   "file_extension": ".py",
   "mimetype": "text/x-python",
   "name": "python",
   "nbconvert_exporter": "python",
   "pygments_lexer": "ipython3",
   "version": "3.13.3"
  }
 },
 "nbformat": 4,
 "nbformat_minor": 5
}
