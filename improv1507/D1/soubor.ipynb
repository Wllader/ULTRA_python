{
 "cells": [
  {
   "cell_type": "markdown",
   "id": "7ea69a68",
   "metadata": {},
   "source": [
    "# Nadpis\n",
    "## Podnadpis\n",
    "### Podpodnadpis\n",
    "\n",
    "---\n",
    "\n",
    "Základní text\n",
    "\n",
    "- Odrážka\n",
    "1. Očíslovaná odrážka\n",
    "\n",
    "$3+x-\\frac{12}{b}$"
   ]
  },
  {
   "cell_type": "code",
   "execution_count": 1,
   "id": "ee480f3f",
   "metadata": {},
   "outputs": [
    {
     "data": {
      "text/plain": [
       "84"
      ]
     },
     "execution_count": 1,
     "metadata": {},
     "output_type": "execute_result"
    }
   ],
   "source": [
    "a = 7\n",
    "b = 12\n",
    "\n",
    "def obdelnik(a, b):\n",
    "    return a*b\n",
    "\n",
    "obdelnik(a, b)"
   ]
  }
 ],
 "metadata": {
  "kernelspec": {
   "display_name": "Python 3",
   "language": "python",
   "name": "python3"
  },
  "language_info": {
   "codemirror_mode": {
    "name": "ipython",
    "version": 3
   },
   "file_extension": ".py",
   "mimetype": "text/x-python",
   "name": "python",
   "nbconvert_exporter": "python",
   "pygments_lexer": "ipython3",
   "version": "3.13.5"
  }
 },
 "nbformat": 4,
 "nbformat_minor": 5
}
